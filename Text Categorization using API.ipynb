{
 "cells": [
  {
   "cell_type": "markdown",
   "metadata": {},
   "source": [
    "Get csv of scraped text (from youtube)\n",
    "using PANDAS"
   ]
  },
  {
   "cell_type": "code",
   "execution_count": 1,
   "metadata": {
    "collapsed": true
   },
   "outputs": [],
   "source": [
    "import pandas as pd"
   ]
  },
  {
   "cell_type": "code",
   "execution_count": 2,
   "metadata": {
    "collapsed": true
   },
   "outputs": [],
   "source": [
    "input_data = pd.read_csv('/Users/ts186045/Desktop/temp.csv')"
   ]
  },
  {
   "cell_type": "code",
   "execution_count": 3,
   "metadata": {},
   "outputs": [
    {
     "data": {
      "text/html": [
       "<div>\n",
       "<style>\n",
       "    .dataframe thead tr:only-child th {\n",
       "        text-align: right;\n",
       "    }\n",
       "\n",
       "    .dataframe thead th {\n",
       "        text-align: left;\n",
       "    }\n",
       "\n",
       "    .dataframe tbody tr th {\n",
       "        vertical-align: top;\n",
       "    }\n",
       "</style>\n",
       "<table border=\"1\" class=\"dataframe\">\n",
       "  <thead>\n",
       "    <tr style=\"text-align: right;\">\n",
       "      <th></th>\n",
       "      <th>Youtube video Title</th>\n",
       "      <th>Category</th>\n",
       "    </tr>\n",
       "  </thead>\n",
       "  <tbody>\n",
       "    <tr>\n",
       "      <th>0</th>\n",
       "      <td>DON'T Buy The iPhone 8, Buy The iPhone 8.</td>\n",
       "      <td>Science and Technology</td>\n",
       "    </tr>\n",
       "    <tr>\n",
       "      <th>1</th>\n",
       "      <td>Using A Flip Phone In 2017...</td>\n",
       "      <td>Science and Technology</td>\n",
       "    </tr>\n",
       "    <tr>\n",
       "      <th>2</th>\n",
       "      <td>Get The iPhone X Notch On Any Phone...</td>\n",
       "      <td>Science and Technology</td>\n",
       "    </tr>\n",
       "    <tr>\n",
       "      <th>3</th>\n",
       "      <td>How To KILL The Samsung Bixby Button...</td>\n",
       "      <td>Science and Technology</td>\n",
       "    </tr>\n",
       "    <tr>\n",
       "      <th>4</th>\n",
       "      <td>So You Want An S8 But You've Only Got $150...</td>\n",
       "      <td>Science and Technology</td>\n",
       "    </tr>\n",
       "  </tbody>\n",
       "</table>\n",
       "</div>"
      ],
      "text/plain": [
       "                             Youtube video Title                Category\n",
       "0      DON'T Buy The iPhone 8, Buy The iPhone 8.  Science and Technology\n",
       "1                  Using A Flip Phone In 2017...  Science and Technology\n",
       "2         Get The iPhone X Notch On Any Phone...  Science and Technology\n",
       "3        How To KILL The Samsung Bixby Button...  Science and Technology\n",
       "4  So You Want An S8 But You've Only Got $150...  Science and Technology"
      ]
     },
     "execution_count": 3,
     "metadata": {},
     "output_type": "execute_result"
    }
   ],
   "source": [
    "input_data.head()"
   ]
  },
  {
   "cell_type": "markdown",
   "metadata": {},
   "source": [
    "Load libraries from TEXT CLASSIFIER so we can use API "
   ]
  },
  {
   "cell_type": "code",
   "execution_count": 4,
   "metadata": {
    "collapsed": true
   },
   "outputs": [],
   "source": [
    "from aylienapiclient import textapi\n",
    "\n",
    "client = textapi.Client(\"10978a36\", \"216ad562dffb4419a73212f58f5ea261\")"
   ]
  },
  {
   "cell_type": "markdown",
   "metadata": {},
   "source": [
    "Test it with a sample text"
   ]
  },
  {
   "cell_type": "code",
   "execution_count": 5,
   "metadata": {},
   "outputs": [
    {
     "name": "stdout",
     "output_type": "stream",
     "text": [
      "{'id': 'IAB1-6', 'confident': False, 'label': 'Music', 'links': [{'rel': 'self', 'link': 'https://api.aylien.com/api/v1/classify/taxonomy/iab-qag/IAB1-6'}, {'rel': 'parent', 'link': 'https://api.aylien.com/api/v1/classify/taxonomy/iab-qag/IAB1'}], 'score': 0.2685398339051835}\n",
      "{'id': 'IAB9', 'confident': True, 'label': 'Hobbies & Interests', 'links': [{'rel': 'self', 'link': 'https://api.aylien.com/api/v1/classify/taxonomy/iab-qag/IAB9'}], 'score': 0.08896399560097365}\n",
      "{'id': 'IAB1', 'confident': False, 'label': 'Arts & Entertainment', 'links': [{'rel': 'self', 'link': 'https://api.aylien.com/api/v1/classify/taxonomy/iab-qag/IAB1'}], 'score': 0.07635488228605083}\n",
      "{'id': 'IAB9-28', 'confident': False, 'label': 'Screenwriting', 'links': [{'rel': 'self', 'link': 'https://api.aylien.com/api/v1/classify/taxonomy/iab-qag/IAB9-28'}, {'rel': 'parent', 'link': 'https://api.aylien.com/api/v1/classify/taxonomy/iab-qag/IAB9'}], 'score': 0.051462148149196085}\n"
     ]
    }
   ],
   "source": [
    "text = \"Musical Genre Challenge with Miley Cyrus\"\n",
    "classifications = client.ClassifyByTaxonomy({\"text\": text, \"taxonomy\": \"iab-qag\"})\n",
    "for category in classifications['categories']:\n",
    "    print(category)\n"
   ]
  },
  {
   "cell_type": "markdown",
   "metadata": {},
   "source": [
    "Loop through every row in the csv data and POST it to the API to get labels/categories"
   ]
  },
  {
   "cell_type": "code",
   "execution_count": 101,
   "metadata": {},
   "outputs": [
    {
     "name": "stdout",
     "output_type": "stream",
     "text": [
      "{'id': 'IAB22-4', 'confident': False, 'label': 'Engines', 'links': [{'rel': 'self', 'link': 'https://api.aylien.com/api/v1/classify/taxonomy/iab-qag/IAB22-4'}, {'rel': 'parent', 'link': 'https://api.aylien.com/api/v1/classify/taxonomy/iab-qag/IAB22'}], 'score': 0.41783555006230066}\n",
      "IAB Category:  Engines\n",
      "Confidence:   False\n",
      "{'id': 'IAB19-6', 'confident': True, 'label': 'Cell Phones', 'links': [{'rel': 'self', 'link': 'https://api.aylien.com/api/v1/classify/taxonomy/iab-qag/IAB19-6'}, {'rel': 'parent', 'link': 'https://api.aylien.com/api/v1/classify/taxonomy/iab-qag/IAB19'}], 'score': 0.43312606042296725}\n",
      "IAB Category:  Cell Phones\n",
      "Confidence:   True\n",
      "{'id': 'IAB19-6', 'confident': True, 'label': 'Cell Phones', 'links': [{'rel': 'self', 'link': 'https://api.aylien.com/api/v1/classify/taxonomy/iab-qag/IAB19-6'}, {'rel': 'parent', 'link': 'https://api.aylien.com/api/v1/classify/taxonomy/iab-qag/IAB19'}], 'score': 0.3602833617407223}\n",
      "IAB Category:  Cell Phones\n",
      "Confidence:   True\n",
      "{'id': 'IAB9', 'confident': True, 'label': 'Hobbies & Interests', 'links': [{'rel': 'self', 'link': 'https://api.aylien.com/api/v1/classify/taxonomy/iab-qag/IAB9'}], 'score': 0.09722973589663694}\n",
      "IAB Category:  Hobbies & Interests\n",
      "Confidence:   True\n",
      "{'id': 'IAB9', 'confident': True, 'label': 'Hobbies & Interests', 'links': [{'rel': 'self', 'link': 'https://api.aylien.com/api/v1/classify/taxonomy/iab-qag/IAB9'}], 'score': 0.09812639507111179}\n",
      "IAB Category:  Hobbies & Interests\n",
      "Confidence:   True\n"
     ]
    }
   ],
   "source": [
    "i=0\n",
    "for text in input_data[\"Youtube video Title\"]:\n",
    "    classifications = client.ClassifyByTaxonomy({\"text\": text, \"taxonomy\": \"iab-qag\"})\n",
    "    #     print(classifications)\n",
    "    a = classifications.popitem()\n",
    "    top1 = a[1][0]\n",
    "    print(top1)\n",
    "    print('IAB Category: ', top1['label'])\n",
    "    print('Confidence:  ' , top1['confident'])\n",
    "    i+=1\n",
    "    if(i==5):\n",
    "        break\n",
    "    "
   ]
  },
  {
   "cell_type": "markdown",
   "metadata": {},
   "source": [
    "Perform parsing to get labels only, using regex"
   ]
  },
  {
   "cell_type": "code",
   "execution_count": 7,
   "metadata": {
    "collapsed": true
   },
   "outputs": [],
   "source": [
    "import re"
   ]
  },
  {
   "cell_type": "code",
   "execution_count": 52,
   "metadata": {
    "collapsed": true
   },
   "outputs": [],
   "source": [
    "classifications = client.ClassifyByTaxonomy({\"text\": text, \"taxonomy\": \"iab-qag\"})"
   ]
  },
  {
   "cell_type": "code",
   "execution_count": 93,
   "metadata": {},
   "outputs": [
    {
     "name": "stdout",
     "output_type": "stream",
     "text": [
      "('categories', [{'id': 'IAB19-6', 'confident': True, 'label': 'Cell Phones', 'links': [{'rel': 'self', 'link': 'https://api.aylien.com/api/v1/classify/taxonomy/iab-qag/IAB19-6'}, {'rel': 'parent', 'link': 'https://api.aylien.com/api/v1/classify/taxonomy/iab-qag/IAB19'}], 'score': 0.3602833617407223}, {'id': 'IAB19', 'confident': True, 'label': 'Technology & Computing', 'links': [{'rel': 'self', 'link': 'https://api.aylien.com/api/v1/classify/taxonomy/iab-qag/IAB19'}], 'score': 0.08390531143437577}, {'id': 'IAB9', 'confident': False, 'label': 'Hobbies & Interests', 'links': [{'rel': 'self', 'link': 'https://api.aylien.com/api/v1/classify/taxonomy/iab-qag/IAB9'}], 'score': 0.0752030246698649}, {'id': 'IAB9-23', 'confident': False, 'label': 'Photography', 'links': [{'rel': 'self', 'link': 'https://api.aylien.com/api/v1/classify/taxonomy/iab-qag/IAB9-23'}, {'rel': 'parent', 'link': 'https://api.aylien.com/api/v1/classify/taxonomy/iab-qag/IAB9'}], 'score': 0.04930745076835214}])\n"
     ]
    }
   ],
   "source": [
    "a = classifications.popitem()\n",
    "\n",
    "print(a)"
   ]
  },
  {
   "cell_type": "markdown",
   "metadata": {},
   "source": [
    "### Using Regexp to manually parse"
   ]
  },
  {
   "cell_type": "code",
   "execution_count": 28,
   "metadata": {},
   "outputs": [
    {
     "data": {
      "text/plain": [
       "dict_items([('categories', [{'id': 'IAB9', 'confident': False, 'label': 'Hobbies & Interests', 'links': [{'rel': 'self', 'link': 'https://api.aylien.com/api/v1/classify/taxonomy/iab-qag/IAB9'}], 'score': 0.07384950232116078}, {'id': 'IAB9-3', 'confident': False, 'label': 'Beadwork', 'links': [{'rel': 'self', 'link': 'https://api.aylien.com/api/v1/classify/taxonomy/iab-qag/IAB9-3'}, {'rel': 'parent', 'link': 'https://api.aylien.com/api/v1/classify/taxonomy/iab-qag/IAB9'}], 'score': 0.054867091424626466}]), ('text', 'Unboxing The $5000 Massage Chair...'), ('taxonomy', 'iab-qag'), ('language', 'en')])"
      ]
     },
     "execution_count": 28,
     "metadata": {},
     "output_type": "execute_result"
    }
   ],
   "source": [
    "classifications.items()\n",
    "# for a in classifications.items():\n",
    "#     print(a)\n",
    "#     print(re.search(\"\\'(label)\\': \\'([^\\']+)'\",a).group(2))\n",
    "#     print((re.search(\"\\'(label)\\': \\'([^\\']+)'\",a).group(1), ',', re.search(\"\\'(label)\\': \\'([^\\']+)'\",a).group(2)) )\n",
    "    \n",
    "\n",
    "# re.search(\"\\'(label)\\': \\'([^\\']+)'\",a).group(2)\n",
    "a = re.search('')"
   ]
  },
  {
   "cell_type": "code",
   "execution_count": 107,
   "metadata": {
    "collapsed": true
   },
   "outputs": [],
   "source": [
    "temps_writeout = (re.search(\"\\'(label)\\': \\'([^\\']+)'\",a).group(1), ',', re.search(\"\\'(label)\\': \\'([^\\']+)'\",a).group(2))"
   ]
  },
  {
   "cell_type": "code",
   "execution_count": null,
   "metadata": {
    "collapsed": true
   },
   "outputs": [],
   "source": [
    "import csv"
   ]
  },
  {
   "cell_type": "markdown",
   "metadata": {},
   "source": [
    "How to write to csv"
   ]
  },
  {
   "cell_type": "code",
   "execution_count": 108,
   "metadata": {
    "collapsed": true
   },
   "outputs": [],
   "source": [
    "temp_a = str(re.search(\"\\'(label)\\': \\'([^\\']+)'\",a).group(1))\n",
    "temp_b = str(re.search(\"\\'(label)\\': \\'([^\\']+)'\",a).group(2))\n"
   ]
  },
  {
   "cell_type": "code",
   "execution_count": 119,
   "metadata": {
    "collapsed": true
   },
   "outputs": [],
   "source": [
    "f = open('csvfile.csv','w')\n",
    "f.write('%s,%s' % (temp_a,temp_b)) #Give your csv text here.\n",
    "## Python will convert \\n to os.linesep\n",
    "f.close()\n"
   ]
  },
  {
   "cell_type": "code",
   "execution_count": null,
   "metadata": {
    "collapsed": true
   },
   "outputs": [],
   "source": []
  }
 ],
 "metadata": {
  "kernelspec": {
   "display_name": "Python 3",
   "language": "python",
   "name": "python3"
  },
  "language_info": {
   "codemirror_mode": {
    "name": "ipython",
    "version": 3
   },
   "file_extension": ".py",
   "mimetype": "text/x-python",
   "name": "python",
   "nbconvert_exporter": "python",
   "pygments_lexer": "ipython3",
   "version": "3.5.2"
  },
  "widgets": {
   "state": {},
   "version": "1.1.2"
  }
 },
 "nbformat": 4,
 "nbformat_minor": 2
}
